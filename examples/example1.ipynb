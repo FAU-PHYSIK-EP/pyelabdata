{
 "cells": [
  {
   "cell_type": "markdown",
   "metadata": {},
   "source": [
    "# Beispiel für Datenzugriff auf eLabFTW\n",
    "\n",
    "pyelabdata ist ein Modul, das den einfachen Datenzugriff (lesen/schreiben) auf ELN-Einträge ermöglicht. Dabei wurden bislang die folgenden typischen Szenarien berücksichtigt, wie sie im physikalischen Praktikum vorkommen können:\n",
    "* Lesen von Tabellendaten (spaltenweise erfasste Daten) aus dem Haupttext des ELN-Eintrags\n",
    "* Lesen von csv-Dateien, die in einem ELN-Eintrag als Anhang gespeichert wurden\n",
    "* Hochladen von Bilddateien von Diagrammen, die mittels matplotlib erzeugt wurden"
   ]
  },
  {
   "cell_type": "code",
   "execution_count": 1,
   "metadata": {},
   "outputs": [],
   "source": [
    "import pyelabdata as elab\n",
    "import numpy as np\n",
    "import matplotlib.pyplot as plt"
   ]
  },
  {
   "cell_type": "markdown",
   "metadata": {},
   "source": [
    "### Verbindung mit eLabFTW\n",
    "Zunächst wird eine Verbindung zum eLabFTW-Server über die Server-URL und einen API-Key hergestellt.\n",
    "\n",
    "In eLabFTW werden wir das Experiment mit der ID 274 für diese Beispiele verwenden."
   ]
  },
  {
   "cell_type": "code",
   "execution_count": 2,
   "metadata": {},
   "outputs": [],
   "source": [
    "API_HOST_URL = 'https://demo.elabftw.net/api/v2'\n",
    "API_KEY = '2-68196dcb656b78354aceb018c126ade7f06c37afad482844352a062942bb1bebff86d1529e10d8d320762'\n",
    "EXP_ID = 274"
   ]
  },
  {
   "cell_type": "code",
   "execution_count": 3,
   "metadata": {},
   "outputs": [],
   "source": [
    "elab.connect(API_HOST_URL, API_KEY)"
   ]
  },
  {
   "cell_type": "markdown",
   "metadata": {},
   "source": [
    "### Tabellendaten aus dem Haupttext eines ELN-Eintrags laden\n",
    "Hierfür wird die ID des ELN-Eintrags benötigt (z.B. id = 274)."
   ]
  },
  {
   "cell_type": "code",
   "execution_count": 4,
   "metadata": {},
   "outputs": [
    {
     "name": "stdout",
     "output_type": "stream",
     "text": [
      "{'U (V)': array([ 0.,  1.,  2.,  3.,  4.,  5.,  6.,  7.,  8.,  9., 10.]), 'I (mA)': array([ 0. ,  4.8, 10.1, 15.3, 19.9, 24.5, 30. , 34.8, 40.4, 45.1, 49.9])}\n"
     ]
    }
   ],
   "source": [
    "data = elab.get_table_data(EXP_ID)\n",
    "print(data)"
   ]
  },
  {
   "cell_type": "markdown",
   "metadata": {},
   "source": [
    "Die Datenausgabe ist standardmäßig ein dictionary der Datenspalten, wobei die keys (Namen) der Spalten aus der ersten Tabellenzeile extrahiert werden. Alternativ kann auch über den Parameter datatype='df' ein pandas.DataFrame zurückgegeben werden.\n",
    "\n",
    "Beispiel für die Visualisierung der Daten:"
   ]
  },
  {
   "cell_type": "code",
   "execution_count": 5,
   "metadata": {},
   "outputs": [
    {
     "data": {
      "text/plain": [
       "Text(0, 0.5, 'I (mA)')"
      ]
     },
     "execution_count": 5,
     "metadata": {},
     "output_type": "execute_result"
    },
    {
     "data": {
      "image/png": "[encoded data removed]",
      "text/plain": [
       "<Figure size 432x288 with 1 Axes>"
      ]
     },
     "metadata": {
      "needs_background": "light"
     },
     "output_type": "display_data"
    }
   ],
   "source": [
    "fig, ax = plt.subplots()\n",
    "ax.scatter(data['U (V)'], data['I (mA)'])\n",
    "ax.set_xlabel('U (V)')\n",
    "ax.set_ylabel('I (mA)')"
   ]
  },
  {
   "cell_type": "markdown",
   "metadata": {},
   "source": [
    "### csv-Datei aus ELN-Eintrag laden\n",
    "Hierfür werden die ID des ELN-Eintrags sowie der Dateiname benötigt. Die Datenausgabe ist analog zu get_table_data()."
   ]
  },
  {
   "cell_type": "code",
   "execution_count": 6,
   "metadata": {},
   "outputs": [
    {
     "name": "stdout",
     "output_type": "stream",
     "text": [
      "{'t(s)': array([0., 1., 2., 3., 4., 5., 9.]), 'U(V)': array([1., 2., 4., 6., 7., 8., 8.])}\n"
     ]
    }
   ],
   "source": [
    "data = elab.get_file_csv_data(EXP_ID, 'testdata.txt')\n",
    "print(data)"
   ]
  },
  {
   "cell_type": "code",
   "execution_count": 7,
   "metadata": {},
   "outputs": [
    {
     "data": {
      "text/plain": [
       "Text(0, 0.5, 'U (V)')"
      ]
     },
     "execution_count": 7,
     "metadata": {},
     "output_type": "execute_result"
    },
    {
     "data": {
      "image/png": "[encoded data removed]",
      "text/plain": [
       "<Figure size 432x288 with 1 Axes>"
      ]
     },
     "metadata": {
      "needs_background": "light"
     },
     "output_type": "display_data"
    }
   ],
   "source": [
    "fig, ax = plt.subplots()\n",
    "ax.scatter(data['t(s)'], data['U(V)'])\n",
    "ax.set_xlabel('t (s)')\n",
    "ax.set_ylabel('U (V)')"
   ]
  },
  {
   "cell_type": "markdown",
   "metadata": {},
   "source": [
    "### Upload von matplotlib Diagrammen in einen ELN-Eintrag\n",
    "Für den Upload wird die ID des ELN-Eintrags benötigt, in den die Abbildung geladen werden soll. Weiterhin werden das matplotlib Figure-Objekt sowie ein Dateiname und ein Kommentar (Bildbeschreibung) benötigt.\n",
    "\n",
    "Standardmäßig werden existierende Abbildungen mit gleichem Dateinamen überschrieben. Mit dem Parameter replacefile=False kann das Überschreiben deaktiviert werden; es wird dann mit jedem Upload ein neuer Bildanhang erstellt."
   ]
  },
  {
   "cell_type": "code",
   "execution_count": 8,
   "metadata": {},
   "outputs": [],
   "source": [
    "elab.upload_image_from_figure(EXP_ID, fig, 'testdata_plot.png', 'This is a diagram of the data contained in testdata.txt.')"
   ]
  },
  {
   "cell_type": "markdown",
   "metadata": {},
   "source": [
    "### Upload von numerischen Daten als csv-Datei in einen ELN-Eintrag\n",
    "Für den Upload wird die ID des ELN-Eintrags benötigt, in dem die csv-Datei erstellt werden soll. Die Upload-Funktion kann eine csv-Datei aus einem DataFrame oder einem Dictionary aus Spaltendaten (numpy arrays) erzeugen; im letzteren Fall, werden die Keys als Spaltenüberschrift verwendet (siehe folgendes Beispiel)."
   ]
  },
  {
   "cell_type": "code",
   "execution_count": 9,
   "metadata": {},
   "outputs": [],
   "source": [
    "# Wir erzeugen uns zunächst ein Testsignal (Sinusspannung mit einer Amplitude von 1 V und einer Frequenz von 4 Hz,\n",
    "# 101 Datenpunkte über den Zeitraum von 1 s abgetastet).\n",
    "t = np.linspace(0, 1, 101)\n",
    "U = np.sin(2 * np.pi * 4 * t)\n",
    "\n",
    "# Upload nach eLabFTW\n",
    "elab.upload_csv_data(EXP_ID, {'t (s)': t, 'U (V)': U}, 'voltage_sine.txt', 'A sine voltage with frequency of 4 Hz.')"
   ]
  },
  {
   "cell_type": "markdown",
   "metadata": {},
   "source": [
    "### Save and upload this jupyter notebook in einen ELN-Eintrag\n",
    "Für den Upload dieses Jupyter-Notebooks wird lediglich die ID des ELN-Eintrags benötigt, in den die Datei geladen werden soll sowie eine Beschreibung.\n",
    "\n",
    "DIESE FUNKTION FUNKTIONIERT ZUR ZEIT NOCH NICHT!!!"
   ]
  },
  {
   "cell_type": "code",
   "execution_count": 10,
   "metadata": {},
   "outputs": [
    {
     "data": {
      "text/html": [
       "\n",
       "    <script>\n",
       "        IPython.notebook.kernel.execute(\n",
       "            'filename = \"' + IPython.notebook.notebook_name + '\"'\n",
       "        )\n",
       "    </script>\n",
       "    "
      ],
      "text/plain": [
       "<IPython.core.display.HTML object>"
      ]
     },
     "metadata": {},
     "output_type": "display_data"
    },
    {
     "ename": "RuntimeError",
     "evalue": "Could not retrieve the jupyter notebook filename",
     "output_type": "error",
     "traceback": [
      "\u001b[1;31m---------------------------------------------------------------------------\u001b[0m",
      "\u001b[1;31mRuntimeError\u001b[0m                              Traceback (most recent call last)",
      "\u001b[1;32m<ipython-input-10-24fe3c393741>\u001b[0m in \u001b[0;36m<module>\u001b[1;34m\u001b[0m\n\u001b[1;32m----> 1\u001b[1;33m \u001b[0melab\u001b[0m\u001b[1;33m.\u001b[0m\u001b[0mupload_this_jupyternotebook\u001b[0m\u001b[1;33m(\u001b[0m\u001b[0mEXP_ID\u001b[0m\u001b[1;33m,\u001b[0m \u001b[1;34m'This is a jupyter notebook.'\u001b[0m\u001b[1;33m)\u001b[0m\u001b[1;33m\u001b[0m\u001b[1;33m\u001b[0m\u001b[0m\n\u001b[0m",
      "\u001b[1;32m~\\elabftw_test\\pyelabdata.py\u001b[0m in \u001b[0;36mupload_this_jupyternotebook\u001b[1;34m(expid, comment, replacefile)\u001b[0m\n\u001b[0;32m    380\u001b[0m     \u001b[0mdisplay\u001b[0m\u001b[1;33m(\u001b[0m\u001b[0mHTML\u001b[0m\u001b[1;33m(\u001b[0m\u001b[0mhtml\u001b[0m\u001b[1;33m)\u001b[0m\u001b[1;33m)\u001b[0m\u001b[1;33m\u001b[0m\u001b[1;33m\u001b[0m\u001b[0m\n\u001b[0;32m    381\u001b[0m     \u001b[1;32mif\u001b[0m \u001b[0mfilename\u001b[0m \u001b[1;32mis\u001b[0m \u001b[1;32mNone\u001b[0m\u001b[1;33m:\u001b[0m\u001b[1;33m\u001b[0m\u001b[1;33m\u001b[0m\u001b[0m\n\u001b[1;32m--> 382\u001b[1;33m         \u001b[1;32mraise\u001b[0m \u001b[0mRuntimeError\u001b[0m\u001b[1;33m(\u001b[0m\u001b[1;34m'Could not retrieve the jupyter notebook filename'\u001b[0m\u001b[1;33m)\u001b[0m\u001b[1;33m\u001b[0m\u001b[1;33m\u001b[0m\u001b[0m\n\u001b[0m\u001b[0;32m    383\u001b[0m     \u001b[0mfile\u001b[0m \u001b[1;33m=\u001b[0m \u001b[0mos\u001b[0m\u001b[1;33m.\u001b[0m\u001b[0mjoin\u001b[0m\u001b[1;33m(\u001b[0m\u001b[0mos\u001b[0m\u001b[1;33m.\u001b[0m\u001b[0mgetcwd\u001b[0m\u001b[1;33m(\u001b[0m\u001b[1;33m)\u001b[0m\u001b[1;33m,\u001b[0m \u001b[0mfilename\u001b[0m\u001b[1;33m)\u001b[0m\u001b[1;33m\u001b[0m\u001b[1;33m\u001b[0m\u001b[0m\n\u001b[0;32m    384\u001b[0m \u001b[1;33m\u001b[0m\u001b[0m\n",
      "\u001b[1;31mRuntimeError\u001b[0m: Could not retrieve the jupyter notebook filename"
     ]
    }
   ],
   "source": [
    "elab.upload_this_jupyternotebook(EXP_ID, 'This is a jupyter notebook.')"
   ]
  },
  {
   "cell_type": "markdown",
   "metadata": {},
   "source": [
    "### Trennung der Verbindung zum eLabFTW-Server"
   ]
  },
  {
   "cell_type": "code",
   "execution_count": 11,
   "metadata": {},
   "outputs": [],
   "source": [
    "elab.disconnect()"
   ]
  },
  {
   "cell_type": "code",
   "execution_count": null,
   "metadata": {},
   "outputs": [],
   "source": []
  }
 ],
 "metadata": {
  "kernelspec": {
   "display_name": "Python 3",
   "language": "python",
   "name": "python3"
  },
  "language_info": {
   "codemirror_mode": {
    "name": "ipython",
    "version": 3
   },
   "file_extension": ".py",
   "mimetype": "text/x-python",
   "name": "python",
   "nbconvert_exporter": "python",
   "pygments_lexer": "ipython3",
   "version": "3.8.5"
  }
 },
 "nbformat": 4,
 "nbformat_minor": 4
}
