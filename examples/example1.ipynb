{
 "cells": [
  {
   "cell_type": "markdown",
   "metadata": {},
   "source": [
    "# Beispiel für Datenzugriff auf eLabFTW\n",
    "\n",
    "pyelabdata ist ein Modul, das den einfachen Datenzugriff (lesen/schreiben) auf ELN-Einträge ermöglicht. Dabei wurden bislang die folgenden typischen Szenarien berücksichtigt, wie sie im physikalischen Praktikum vorkommen können:\n",
    "* Lesen von Tabellendaten (spaltenweise erfasste Daten) aus dem Haupttext des ELN-Eintrags\n",
    "* Lesen von csv-Dateien, die in einem ELN-Eintrag als Anhang gespeichert wurden\n",
    "* Speichern und lesen von Werten in Extra Fields in einem ELN-Eintrag\n",
    "* Hochladen von lokalen Dateien in einen ELN-Eintrag\n",
    "* Hochladen von Bilddateien von Diagrammen, die mittels matplotlib erzeugt wurden\n",
    "* Hochladen von numerischen Daten als csv-Datei\n",
    "* Speichern und hochladen des aktuellen Jupyter-Notebooks"
   ]
  },
  {
   "cell_type": "code",
   "execution_count": null,
   "metadata": {},
   "outputs": [],
   "source": [
    "import pyelabdata as eln\n",
    "import numpy as np\n",
    "import matplotlib.pyplot as plt\n",
    "from scipy.stats import linregress\n",
    "from PIL import Image\n",
    "from io import BytesIO\n",
    "from IPython.display import display"
   ]
  },
  {
   "cell_type": "markdown",
   "metadata": {},
   "source": [
    "### Verbindung mit eLabFTW\n",
    "Zunächst wird eine Verbindung zum eLabFTW-Server über die Server-URL und einen API-Key hergestellt."
   ]
  },
  {
   "cell_type": "code",
   "execution_count": 2,
   "metadata": {},
   "outputs": [],
   "source": [
    "API_HOST_URL = 'https://your_server_url/api/v2'\n",
    "API_KEY = 'your_apikey'"
   ]
  },
  {
   "cell_type": "code",
   "execution_count": 3,
   "metadata": {},
   "outputs": [],
   "source": [
    "eln.connect(API_HOST_URL, API_KEY)"
   ]
  },
  {
   "cell_type": "markdown",
   "metadata": {},
   "source": [
    "### Experiment öffnen\n",
    "Jetzt wird ein Experiment anhand der Experiment-ID in eLabFTW geöffnet; alle nachfolgenden Kommandos wirken auf dieses Experiment, es sei denn es wird ein anderes Experiment explizit über den Parameter expid=xxx spezifiziert. Die Rückgabe enthält ein Dictionary mit den Metadaten des Experiments."
   ]
  },
  {
   "cell_type": "code",
   "execution_count": 4,
   "metadata": {},
   "outputs": [],
   "source": [
    "# In diesem Beispiel wird das Experiment mit der ID 123 geöffnet.\n",
    "eln.open_experiment(123)"
   ]
  },
  {
   "cell_type": "markdown",
   "metadata": {},
   "source": [
    "### Tabellendaten aus dem Haupttext eines ELN-Eintrags laden\n",
    "Ohne weitere Parameter wird die erste Tabelle im Haupttext abgerufen."
   ]
  },
  {
   "cell_type": "code",
   "execution_count": 5,
   "metadata": {},
   "outputs": [
    {
     "name": "stdout",
     "output_type": "stream",
     "text": [
      "{'U (V)': array([1., 2., 3., 4.]), 'I (mA)': array([ 5., 11., 14., 20.]), nan: array([nan, nan, nan, nan]), 'U (V)_1': array([100., 101., 102., 103.])}\n"
     ]
    }
   ],
   "source": [
    "data = eln.get_table_data()\n",
    "print(data)"
   ]
  },
  {
   "cell_type": "markdown",
   "metadata": {},
   "source": [
    "Die Datenausgabe ist standardmäßig ein dictionary der Datenspalten, wobei die keys (Namen) der Spalten aus der ersten Tabellenzeile extrahiert werden. Alternativ kann auch über den Parameter datatype='df' ein pandas.DataFrame zurückgegeben werden.\n",
    "\n",
    "Beispiel für die Visualisierung der Daten:"
   ]
  },
  {
   "cell_type": "code",
   "execution_count": 6,
   "metadata": {},
   "outputs": [
    {
     "data": {
      "text/plain": [
       "Text(0, 0.5, 'I (mA)')"
      ]
     },
     "execution_count": 6,
     "metadata": {},
     "output_type": "execute_result"
    },
    {
     "data": {
      "image/png": "[encoded data removed]",
      "text/plain": [
       "<Figure size 432x288 with 1 Axes>"
      ]
     },
     "metadata": {
      "needs_background": "light"
     },
     "output_type": "display_data"
    }
   ],
   "source": [
    "fig, ax = plt.subplots()\n",
    "ax.scatter(data['U (V)'], data['I (mA)'])\n",
    "ax.set_xlabel('U (V)')\n",
    "ax.set_ylabel('I (mA)')"
   ]
  },
  {
   "cell_type": "markdown",
   "metadata": {},
   "source": [
    "### Speichere Daten in einem Extra Field im ELN-Eintrag\n",
    "Wir bestimmen den ohmschen Widerstand aus der linearen Regression der Messdaten und speichern das Ergebnis im ELN-Eintrag in einem neuen Extra Field \"R\" in der Extra Field Gruppe \"Ergebnisse\"."
   ]
  },
  {
   "cell_type": "code",
   "execution_count": null,
   "metadata": {},
   "outputs": [],
   "source": [
    "result = linregress(data['U (V)'], data['I (mA)'])\n",
    "R = 1 / result.slope * 1000\n",
    "print(f'Widerstand R = {R:.0f} Ohm')"
   ]
  },
  {
   "cell_type": "code",
   "execution_count": null,
   "metadata": {},
   "outputs": [],
   "source": [
    "eln.create_extrafield('R', R, fieldtype='number', unit='Ohm', \n",
    "                      description='Elektrischer Widerstand bestimmt aus Messdaten durch lineare Regression',\n",
    "                      groupname='Ergebnisse')"
   ]
  },
  {
   "cell_type": "code",
   "execution_count": null,
   "metadata": {},
   "outputs": [],
   "source": [
    "# Der Wert aus dem Extra Field kann auch wieder aus dem ELN gelesen werden\n",
    "value = eln.get_extrafields('R')\n",
    "print(f'Wert des Extra Fields \"R\": {value}')"
   ]
  },
  {
   "cell_type": "markdown",
   "metadata": {},
   "source": [
    "### csv-Datei aus ELN-Eintrag laden\n",
    "Hierfür wird der Dateiname benötigt. Die Datenausgabe ist analog zu get_table_data()."
   ]
  },
  {
   "cell_type": "code",
   "execution_count": 7,
   "metadata": {},
   "outputs": [
    {
     "name": "stdout",
     "output_type": "stream",
     "text": [
      "{'t(s)': array([0., 1., 2., 3., 4., 5., 9.]), 'U(V)': array([1., 2., 4., 6., 7., 8., 8.])}\n"
     ]
    }
   ],
   "source": [
    "data = eln.get_file_csv_data('testdata.txt')\n",
    "print(data)"
   ]
  },
  {
   "cell_type": "code",
   "execution_count": 8,
   "metadata": {},
   "outputs": [
    {
     "data": {
      "text/plain": [
       "Text(0, 0.5, 'U (V)')"
      ]
     },
     "execution_count": 8,
     "metadata": {},
     "output_type": "execute_result"
    },
    {
     "data": {
      "image/png": "[encoded data removed]",
      "text/plain": [
       "<Figure size 432x288 with 1 Axes>"
      ]
     },
     "metadata": {
      "needs_background": "light"
     },
     "output_type": "display_data"
    }
   ],
   "source": [
    "fig, ax = plt.subplots()\n",
    "ax.scatter(data['t(s)'], data['U(V)'])\n",
    "ax.set_xlabel('t (s)')\n",
    "ax.set_ylabel('U (V)')"
   ]
  },
  {
   "cell_type": "markdown",
   "metadata": {},
   "source": [
    "### Upload von matplotlib Diagrammen in einen ELN-Eintrag\n",
    "Für den Upload werden das matplotlib Figure-Objekt sowie ein Dateiname und ein Kommentar (Bildbeschreibung) benötigt.\n",
    "\n",
    "Standardmäßig werden existierende Abbildungen mit gleichem Dateinamen überschrieben. Mit dem Parameter replacefile=False kann das Überschreiben deaktiviert werden; es wird dann mit jedem Upload ein neuer Bildanhang erstellt."
   ]
  },
  {
   "cell_type": "code",
   "execution_count": 9,
   "metadata": {},
   "outputs": [],
   "source": [
    "eln.upload_image_from_figure(fig, 'testdata_plot.png', 'This is a diagram of the data contained in testdata.txt.')"
   ]
  },
  {
   "cell_type": "markdown",
   "metadata": {},
   "source": [
    "### hdf5-Datei aus ELN-Eintrag laden\n",
    "Hierfür wird der Dateiname benötigt. Die Ausgabe ist ein h5py file object, wie es durch h5py.File erzeugt wird."
   ]
  },
  {
   "cell_type": "code",
   "execution_count": null,
   "metadata": {},
   "outputs": [],
   "source": [
    "hdf5file = eln.get_file_hdf5_data('data.nxs')\n",
    "\n",
    "# hdf5 ist ein hierarchisches Dateiformat. Wir geben hier alle Schlüssel der Root-Ebene aus.\n",
    "keys = hdf5file.keys()\n",
    "list(keys)"
   ]
  },
  {
   "cell_type": "code",
   "execution_count": null,
   "metadata": {},
   "outputs": [],
   "source": [
    "# Wir laden die Daten aus dem ersten Eintrag; diese sind im Abschnitt data/IV_sweep gespeichert.\n",
    "experiment = hdf5file[list(keys)[0]]\n",
    "dataset = experiment['data/IV_sweep']\n",
    "\n",
    "temperatures = np.unique(np.array(dataset['PID_setpoint']))\n",
    "data = [\n",
    "    {\n",
    "        'setpoint': temp,\n",
    "        'temperature_avg': np.average(dataset['PID_current_value'][np.where(dataset['PID_setpoint'] == temp)]),\n",
    "        'voltage': np.array(dataset['SMU_mesV1'][np.where(dataset['PID_setpoint'] == temp)]),\n",
    "        'current': np.array(dataset['SMU_mesI1'][np.where(dataset['PID_setpoint'] == temp)]),\n",
    "    }\n",
    "    for temp in temperatures\n",
    "]\n",
    "print(data)"
   ]
  },
  {
   "cell_type": "markdown",
   "metadata": {},
   "source": [
    "### Lese den (binären) Inhalt einer Datei aus dem ELN\n",
    "In diesem Beispiel lesen wir eine Bilddatei ein und zeigen das Bild."
   ]
  },
  {
   "cell_type": "code",
   "execution_count": null,
   "metadata": {},
   "outputs": [],
   "source": [
    "filedata = eln.get_file_data('testdata_plot.png')\n",
    "\n",
    "# Wir nutzen BytesIO, um aus den binären Daten einen Filestream zu erstellen, der mit Image.open gelesen werden kann.\n",
    "display(Image.open(BytesIO(filedata)))"
   ]
  },
  {
   "cell_type": "markdown",
   "metadata": {},
   "source": [
    "### Upload von numerischen Daten als csv-Datei in einen ELN-Eintrag\n",
    "Für den Upload wird die ID des ELN-Eintrags benötigt, in dem die csv-Datei erstellt werden soll. Die Upload-Funktion kann eine csv-Datei aus einem DataFrame oder einem Dictionary aus Spaltendaten (numpy arrays) erzeugen; im letzteren Fall, werden die Keys als Spaltenüberschrift verwendet (siehe folgendes Beispiel)."
   ]
  },
  {
   "cell_type": "code",
   "execution_count": 11,
   "metadata": {},
   "outputs": [],
   "source": [
    "# Wir erzeugen uns zunächst ein Testsignal (Sinusspannung mit einer Amplitude von 1 V und einer Frequenz von 4 Hz,\n",
    "# 101 Datenpunkte über den Zeitraum von 1 s abgetastet).\n",
    "t = np.linspace(0, 1, 101)\n",
    "U = np.sin(2 * np.pi * 4 * t)\n",
    "\n",
    "# Upload nach eLabFTW\n",
    "eln.upload_csv_data({'t (s)': t, 'U (V)': U}, 'voltage_sine.txt', 'A sine voltage with frequency of 4 Hz.')"
   ]
  },
  {
   "cell_type": "markdown",
   "metadata": {},
   "source": [
    "### Save and upload this jupyter notebook in einen ELN-Eintrag\n",
    "Für den Upload dieses Jupyter-Notebooks wird lediglich die ID des ELN-Eintrags benötigt, in den die Datei geladen werden soll sowie eine Beschreibung.\n",
    "\n",
    "DIESE FUNKTION FUNKTIONIERT ZUR ZEIT NOCH NICHT!!!"
   ]
  },
  {
   "cell_type": "code",
   "execution_count": 12,
   "metadata": {},
   "outputs": [
    {
     "data": {
      "application/javascript": [
       "IPython.notebook.save_checkpoint()"
      ],
      "text/plain": [
       "<IPython.core.display.Javascript object>"
      ]
     },
     "metadata": {},
     "output_type": "display_data"
    }
   ],
   "source": [
    "eln.upload_this_jupyternotebook('This is the jupyter notebook that generated the evaluated data and uploads.')"
   ]
  },
  {
   "cell_type": "markdown",
   "metadata": {},
   "source": [
    "### Trennung der Verbindung zum eLabFTW-Server"
   ]
  },
  {
   "cell_type": "code",
   "execution_count": 11,
   "metadata": {},
   "outputs": [],
   "source": [
    "eln.disconnect()"
   ]
  },
  {
   "cell_type": "code",
   "execution_count": null,
   "metadata": {},
   "outputs": [],
   "source": []
  }
 ],
 "metadata": {
  "kernelspec": {
   "display_name": "Python 3 (ipykernel)",
   "language": "python",
   "name": "python3"
  },
  "language_info": {
   "codemirror_mode": {
    "name": "ipython",
    "version": 3
   },
   "file_extension": ".py",
   "mimetype": "text/x-python",
   "name": "python",
   "nbconvert_exporter": "python",
   "pygments_lexer": "ipython3",
   "version": "3.11.5"
  }
 },
 "nbformat": 4,
 "nbformat_minor": 4
}
