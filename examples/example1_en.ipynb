{
 "cells": [
  {
   "cell_type": "markdown",
   "metadata": {},
   "source": [
    "# Example of data access to eLabFTW\n",
    "\n",
    "pyelabdata is a module that enables simple data access (read/write) to ELN entries. So far, the following typical scenarios have been taken into account, as they may occur in lab courses in physics:\n",
    "* Reading table data (data entered column by column) from the main text of the ELN entry.\n",
    "* Reading csv, hdf5 or image files that have been saved in an ELN entry as an attachment\n",
    "* Saving and reading values in Extra Fields in an ELN entry\n",
    "* Upload local files to an ELN entry\n",
    "* Upload image files of diagrams generated using matplotlib\n",
    "* Upload numerical data as a csv file\n",
    "* Saving and uploading the current Jupyter notebook"
   ]
  },
  {
   "cell_type": "code",
   "execution_count": 1,
   "metadata": {},
   "outputs": [],
   "source": [
    "import pyelabdata as eln\n",
    "import numpy as np\n",
    "import matplotlib.pyplot as plt\n",
    "from scipy.stats import linregress\n",
    "from PIL import Image\n",
    "from io import BytesIO\n",
    "from IPython.display import display\n",
    "from dotenv import dotenv_values"
   ]
  },
  {
   "cell_type": "markdown",
   "metadata": {},
   "source": [
    "### Connect to eLabFTW\n",
    "First, we connect with the eLabFTW server via its URL and an API key."
   ]
  },
  {
   "cell_type": "code",
   "execution_count": 2,
   "metadata": {},
   "outputs": [],
   "source": [
    "# Read server URL and API key from the .env file\n",
    "config = dotenv_values(\".env\")"
   ]
  },
  {
   "cell_type": "code",
   "execution_count": 3,
   "metadata": {},
   "outputs": [],
   "source": [
    "eln.connect(config['API_HOST_URL'], config['API_KEY'])"
   ]
  },
  {
   "cell_type": "markdown",
   "metadata": {},
   "source": [
    "### Open experiment\n",
    "Now we open an experiment in eLabFTW using the experiment ID; all subsequent commands apply to this experiment, unless another experiment is explicitly specified using the parameter expid=xxx. The return contains a dictionary with the metadata of the experiment."
   ]
  },
  {
   "cell_type": "code",
   "execution_count": 4,
   "metadata": {},
   "outputs": [],
   "source": [
    "# In this example, we open experiment ID 123.\n",
    "eln.open_experiment(123)"
   ]
  },
  {
   "cell_type": "markdown",
   "metadata": {},
   "source": [
    "### Load table data from the main text of an ELN entry\n",
    "Without further parameters, the first table in the main text is retrieved."
   ]
  },
  {
   "cell_type": "code",
   "execution_count": 5,
   "metadata": {},
   "outputs": [
    {
     "name": "stdout",
     "output_type": "stream",
     "text": [
      "{'U (V)': array([0., 1., 2., 3., 4., 5., 6., 7., 8.]), 'I (mA)': array([0. , 0.1, 0.2, 0.3, 0.4, 0.5, 0.6, 0.7, 0.8])}\n"
     ]
    }
   ],
   "source": [
    "data = eln.get_table_data()\n",
    "print(data)"
   ]
  },
  {
   "cell_type": "markdown",
   "metadata": {},
   "source": [
    "By default, the data output is a dictionary of the data columns, whereby the keys (names) of the columns are extracted from the first table row. Alternatively, a pandas.DataFrame can also be returned by specifying the parameter datatype='df'.\n",
    "\n",
    "Example for the visualisation of the data:"
   ]
  },
  {
   "cell_type": "code",
   "execution_count": 6,
   "metadata": {},
   "outputs": [
    {
     "data": {
      "text/plain": [
       "Text(0, 0.5, 'I (mA)')"
      ]
     },
     "execution_count": 6,
     "metadata": {},
     "output_type": "execute_result"
    },
    {
     "data": {
      "image/png": "[encoded data removed]",
      "text/plain": [
       "<Figure size 640x480 with 1 Axes>"
      ]
     },
     "metadata": {},
     "output_type": "display_data"
    }
   ],
   "source": [
    "fig, ax = plt.subplots()\n",
    "ax.scatter(data['U (V)'], data['I (mA)'])\n",
    "ax.set_xlabel('U (V)')\n",
    "ax.set_ylabel('I (mA)')"
   ]
  },
  {
   "cell_type": "markdown",
   "metadata": {},
   "source": [
    "### Save data into an Extra Field in the ELN entry\n",
    "We determine the ohmic resistance from the linear regression of the measurement data and save the result in the ELN entry into a new Extra Field \"R\" in the Extra Field group \"Results\"."
   ]
  },
  {
   "cell_type": "code",
   "execution_count": 7,
   "metadata": {},
   "outputs": [
    {
     "name": "stdout",
     "output_type": "stream",
     "text": [
      "Resistance R = 10000 Ohm\n"
     ]
    }
   ],
   "source": [
    "result = linregress(data['U (V)'], data['I (mA)'])\n",
    "R = 1 / result.slope * 1000\n",
    "print(f'Resistance R = {R:.0f} Ohm')"
   ]
  },
  {
   "cell_type": "code",
   "execution_count": 8,
   "metadata": {},
   "outputs": [],
   "source": [
    "eln.create_extrafield('R', R, fieldtype='number', unit='Ohm', \n",
    "                      description='Electrical resistance obtained from a linear regression to the measurement data',\n",
    "                      groupname='Results')"
   ]
  },
  {
   "cell_type": "code",
   "execution_count": 9,
   "metadata": {},
   "outputs": [
    {
     "name": "stdout",
     "output_type": "stream",
     "text": [
      "Value of the Extra Fields \"R\": 10000.0\n"
     ]
    }
   ],
   "source": [
    "# The value of the Extra Field can be read again from the ELN, of course\n",
    "value = eln.get_extrafields('R')\n",
    "print(f'Value of the Extra Fields \"R\": {value}')"
   ]
  },
  {
   "cell_type": "markdown",
   "metadata": {},
   "source": [
    "### Load csv file from the ELN entry\n",
    "For this, the file name is required. The return is similar as for get_table_data()."
   ]
  },
  {
   "cell_type": "code",
   "execution_count": 10,
   "metadata": {},
   "outputs": [
    {
     "name": "stdout",
     "output_type": "stream",
     "text": [
      "{'t(s)': array([0., 1., 2., 3., 4., 5., 9.]), 'U(V)': array([1., 2., 4., 6., 7., 8., 8.])}\n"
     ]
    }
   ],
   "source": [
    "data = eln.get_file_csv_data('testdata.txt')\n",
    "print(data)"
   ]
  },
  {
   "cell_type": "code",
   "execution_count": 11,
   "metadata": {},
   "outputs": [
    {
     "data": {
      "text/plain": [
       "Text(0, 0.5, 'U (V)')"
      ]
     },
     "execution_count": 11,
     "metadata": {},
     "output_type": "execute_result"
    },
    {
     "data": {
      "image/png": "[encoded data removed]",
      "text/plain": [
       "<Figure size 640x480 with 1 Axes>"
      ]
     },
     "metadata": {},
     "output_type": "display_data"
    }
   ],
   "source": [
    "fig, ax = plt.subplots()\n",
    "ax.scatter(data['t(s)'], data['U(V)'])\n",
    "ax.set_xlabel('t (s)')\n",
    "ax.set_ylabel('U (V)')"
   ]
  },
  {
   "cell_type": "markdown",
   "metadata": {},
   "source": [
    "### Upload matplotlib diagrams to an ELN entry\n",
    "The matplotlib figure object as well as a file name and a comment (description of the figure) are required for the upload.\n",
    "\n",
    "Existing figures with the same file name are overwritten by default. Overwriting can be deactivated with the parameter replacefile=False; a new image attachment is then created with each upload."
   ]
  },
  {
   "cell_type": "code",
   "execution_count": 12,
   "metadata": {},
   "outputs": [],
   "source": [
    "eln.upload_image_from_figure(fig, 'testdata_plot.png', 'This is a diagram of the data contained in testdata.txt.')"
   ]
  },
  {
   "cell_type": "markdown",
   "metadata": {},
   "source": [
    "### Load hdf5 file from the ELN entry\n",
    "For this, the file name is required. The return value is a h5py file object as generated by the h5py.File."
   ]
  },
  {
   "cell_type": "code",
   "execution_count": 13,
   "metadata": {},
   "outputs": [
    {
     "data": {
      "text/plain": [
       "['Hacky_Hour_2024-03-18T12:47:11.810899+01:00']"
      ]
     },
     "execution_count": 13,
     "metadata": {},
     "output_type": "execute_result"
    }
   ],
   "source": [
    "hdf5file = eln.get_file_hdf5_data('data.nxs')\n",
    "\n",
    "# hdf5 is a hierarchical file format. We list all keys at root level here.\n",
    "\n",
    "keys = hdf5file.keys()\n",
    "list(keys)"
   ]
  },
  {
   "cell_type": "code",
   "execution_count": 14,
   "metadata": {},
   "outputs": [
    {
     "name": "stdout",
     "output_type": "stream",
     "text": [
      "[{'setpoint': np.float64(300.0), 'temperature_avg': np.float64(299.9997008898587), 'voltage': array([-10. ,  -9.9,  -9.8,  -9.7,  -9.6,  -9.5,  -9.4,  -9.3,  -9.2,\n",
      "        -9.1,  -9. ,  -8.9,  -8.8,  -8.7,  -8.6,  -8.5,  -8.4,  -8.3,\n",
      "        -8.2,  -8.1,  -8. ,  -7.9,  -7.8,  -7.7,  -7.6,  -7.5,  -7.4,\n",
      "        -7.3,  -7.2,  -7.1,  -7. ,  -6.9,  -6.8,  -6.7,  -6.6,  -6.5,\n",
      "        -6.4,  -6.3,  -6.2,  -6.1,  -6. ,  -5.9,  -5.8,  -5.7,  -5.6,\n",
      "        -5.5,  -5.4,  -5.3,  -5.2,  -5.1,  -5. ,  -4.9,  -4.8,  -4.7,\n",
      "        -4.6,  -4.5,  -4.4,  -4.3,  -4.2,  -4.1,  -4. ,  -3.9,  -3.8,\n",
      "        -3.7,  -3.6,  -3.5,  -3.4,  -3.3,  -3.2,  -3.1,  -3. ,  -2.9,\n",
      "        -2.8,  -2.7,  -2.6,  -2.5,  -2.4,  -2.3,  -2.2,  -2.1,  -2. ,\n",
      "        -1.9,  -1.8,  -1.7,  -1.6,  -1.5,  -1.4,  -1.3,  -1.2,  -1.1,\n",
      "        -1. ,  -0.9,  -0.8,  -0.7,  -0.6,  -0.5,  -0.4,  -0.3,  -0.2,\n",
      "        -0.1,   0. ,   0.1,   0.2,   0.3,   0.4,   0.5,   0.6,   0.7,\n",
      "         0.8,   0.9,   1. ,   1.1,   1.2,   1.3,   1.4,   1.5,   1.6,\n",
      "         1.7,   1.8,   1.9,   2. ]), 'current': array([-5.20206687e-08, -5.20212260e-08, -5.20215319e-08, -5.20218185e-08,\n",
      "       -5.20221269e-08, -5.20224360e-08, -5.20228539e-08, -5.20234484e-08,\n",
      "       -5.20239883e-08, -5.20244924e-08, -5.20250037e-08, -5.20254972e-08,\n",
      "       -5.20259839e-08, -5.20264938e-08, -5.20271371e-08, -5.20276842e-08,\n",
      "       -5.20282146e-08, -5.20287676e-08, -5.20293038e-08, -5.20298159e-08,\n",
      "       -5.20303580e-08, -5.20309624e-08, -5.20314573e-08, -5.20319111e-08,\n",
      "       -5.20323409e-08, -5.20327947e-08, -5.20333688e-08, -5.20338601e-08,\n",
      "       -5.20344351e-08, -5.20347833e-08, -5.20351097e-08, -5.20354220e-08,\n",
      "       -5.20357293e-08, -5.20360316e-08, -5.20363437e-08, -5.20366474e-08,\n",
      "       -5.20369882e-08, -5.20371586e-08, -5.20373380e-08, -5.20375007e-08,\n",
      "       -5.20379774e-08, -5.20381520e-08, -5.20382037e-08, -5.20382519e-08,\n",
      "       -5.20382986e-08, -5.20383457e-08, -5.20383934e-08, -5.20384419e-08,\n",
      "       -5.20384900e-08, -5.20385219e-08, -5.20384941e-08, -5.20384617e-08,\n",
      "       -5.20384323e-08, -5.20384025e-08, -5.20383738e-08, -5.20383455e-08,\n",
      "       -5.20383064e-08, -5.20382394e-08, -5.20381670e-08, -5.20380987e-08,\n",
      "       -5.20380290e-08, -5.20379619e-08, -5.20378923e-08, -5.20378127e-08,\n",
      "       -5.20377392e-08, -5.20376533e-08, -5.20375754e-08, -5.20374962e-08,\n",
      "       -5.20374205e-08, -5.20373186e-08, -5.20372271e-08, -5.20371590e-08,\n",
      "       -5.20370849e-08, -5.20370166e-08, -5.20369514e-08, -5.20368840e-08,\n",
      "       -5.20367984e-08, -5.20367225e-08, -5.20366673e-08, -5.20366197e-08,\n",
      "       -5.20365725e-08, -5.20365275e-08, -5.20364806e-08, -5.20364198e-08,\n",
      "       -5.20363563e-08, -5.20363296e-08, -5.20363037e-08, -5.20362779e-08,\n",
      "       -5.20362442e-08, -5.20362177e-08, -5.20361920e-08, -5.20361625e-08,\n",
      "       -5.20361428e-08, -5.20360734e-08, -5.20356571e-08, -5.20328369e-08,\n",
      "       -5.20133884e-08, -5.18789095e-08, -5.09486817e-08, -4.45137154e-08,\n",
      "        0.00000000e+00,  3.07860117e-07,  2.43404534e-06,  1.69775040e-05,\n",
      "        1.10524851e-04,  5.63053620e-04,  1.74733592e-03,  3.55518419e-03,\n",
      "        5.71190130e-03,  8.06028537e-03,  1.05235022e-02,  1.30614763e-02,\n",
      "        1.56513950e-02,  1.82792582e-02,  2.09359378e-02,  2.36151858e-02,\n",
      "        2.63125547e-02,  2.90247740e-02,  3.17493730e-02,  3.44844426e-02,\n",
      "        3.72284786e-02])}, {'setpoint': np.float64(320.0), 'temperature_avg': np.float64(320.0000091567765), 'voltage': array([-10. ,  -9.9,  -9.8,  -9.7,  -9.6,  -9.5,  -9.4,  -9.3,  -9.2,\n",
      "        -9.1,  -9. ,  -8.9,  -8.8,  -8.7,  -8.6,  -8.5,  -8.4,  -8.3,\n",
      "        -8.2,  -8.1,  -8. ,  -7.9,  -7.8,  -7.7,  -7.6,  -7.5,  -7.4,\n",
      "        -7.3,  -7.2,  -7.1,  -7. ,  -6.9,  -6.8,  -6.7,  -6.6,  -6.5,\n",
      "        -6.4,  -6.3,  -6.2,  -6.1,  -6. ,  -5.9,  -5.8,  -5.7,  -5.6,\n",
      "        -5.5,  -5.4,  -5.3,  -5.2,  -5.1,  -5. ,  -4.9,  -4.8,  -4.7,\n",
      "        -4.6,  -4.5,  -4.4,  -4.3,  -4.2,  -4.1,  -4. ,  -3.9,  -3.8,\n",
      "        -3.7,  -3.6,  -3.5,  -3.4,  -3.3,  -3.2,  -3.1,  -3. ,  -2.9,\n",
      "        -2.8,  -2.7,  -2.6,  -2.5,  -2.4,  -2.3,  -2.2,  -2.1,  -2. ,\n",
      "        -1.9,  -1.8,  -1.7,  -1.6,  -1.5,  -1.4,  -1.3,  -1.2,  -1.1,\n",
      "        -1. ,  -0.9,  -0.8,  -0.7,  -0.6,  -0.5,  -0.4,  -0.3,  -0.2,\n",
      "        -0.1,   0. ,   0.1,   0.2,   0.3,   0.4,   0.5,   0.6,   0.7,\n",
      "         0.8,   0.9,   1. ,   1.1,   1.2,   1.3,   1.4,   1.5,   1.6,\n",
      "         1.7,   1.8,   1.9,   2. ]), 'current': array([-7.80440045e-07, -7.80417388e-07, -7.80403615e-07, -7.80391352e-07,\n",
      "       -7.80379083e-07, -7.80366501e-07, -7.80353672e-07, -7.80341376e-07,\n",
      "       -7.80325697e-07, -7.80313489e-07, -7.80304158e-07, -7.80293274e-07,\n",
      "       -7.80284831e-07, -7.80276602e-07, -7.80268907e-07, -7.80259395e-07,\n",
      "       -7.80254788e-07, -7.80251581e-07, -7.80248566e-07, -7.80245659e-07,\n",
      "       -7.80242721e-07, -7.80239634e-07, -7.80236625e-07, -7.80233388e-07,\n",
      "       -7.80233044e-07, -7.80232684e-07, -7.80232188e-07, -7.80231766e-07,\n",
      "       -7.80231415e-07, -7.80231057e-07, -7.80231146e-07, -7.80232720e-07,\n",
      "       -7.80234373e-07, -7.80236325e-07, -7.80237851e-07, -7.80239338e-07,\n",
      "       -7.80241049e-07, -7.80242912e-07, -7.80245173e-07, -7.80247275e-07,\n",
      "       -7.80249306e-07, -7.80251382e-07, -7.80253473e-07, -7.80256096e-07,\n",
      "       -7.80259628e-07, -7.80261745e-07, -7.80263698e-07, -7.80265638e-07,\n",
      "       -7.80267548e-07, -7.80269449e-07, -7.80271388e-07, -7.80274204e-07,\n",
      "       -7.80276167e-07, -7.80277851e-07, -7.80279304e-07, -7.80280763e-07,\n",
      "       -7.80282187e-07, -7.80283638e-07, -7.80285364e-07, -7.80286348e-07,\n",
      "       -7.80287224e-07, -7.80288049e-07, -7.80288867e-07, -7.80289693e-07,\n",
      "       -7.80290502e-07, -7.80291326e-07, -7.80292242e-07, -7.80292607e-07,\n",
      "       -7.80292971e-07, -7.80293353e-07, -7.80293722e-07, -7.80294082e-07,\n",
      "       -7.80294445e-07, -7.80294790e-07, -7.80294800e-07, -7.80294811e-07,\n",
      "       -7.80294821e-07, -7.80294831e-07, -7.80294842e-07, -7.80294852e-07,\n",
      "       -7.80294807e-07, -7.80294615e-07, -7.80294425e-07, -7.80294247e-07,\n",
      "       -7.80294073e-07, -7.80293896e-07, -7.80293722e-07, -7.80293508e-07,\n",
      "       -7.80293255e-07, -7.80293024e-07, -7.80292788e-07, -7.80292443e-07,\n",
      "       -7.80291889e-07, -7.80289650e-07, -7.80277081e-07, -7.80201394e-07,\n",
      "       -7.79738500e-07, -7.76902120e-07, -7.59516204e-07, -6.52948881e-07,\n",
      "        0.00000000e+00,  3.99084325e-06,  2.80243726e-05,  1.61457539e-04,\n",
      "        7.04035811e-04,  1.95387325e-03,  3.77398213e-03,  5.92144949e-03,\n",
      "        8.25510922e-03,  1.07030688e-02,  1.32266446e-02,  1.58033396e-02,\n",
      "        1.84191387e-02,  2.10648043e-02,  2.37339623e-02,  2.64220464e-02,\n",
      "        2.91256822e-02,  3.18423109e-02,  3.45699485e-02,  3.73070272e-02,\n",
      "        4.00522882e-02])}, {'setpoint': np.float64(340.0), 'temperature_avg': np.float64(340.00002499038396), 'voltage': array([-10. ,  -9.9,  -9.8,  -9.7,  -9.6,  -9.5,  -9.4,  -9.3,  -9.2,\n",
      "        -9.1,  -9. ,  -8.9,  -8.8,  -8.7,  -8.6,  -8.5,  -8.4,  -8.3,\n",
      "        -8.2,  -8.1,  -8. ,  -7.9,  -7.8,  -7.7,  -7.6,  -7.5,  -7.4,\n",
      "        -7.3,  -7.2,  -7.1,  -7. ,  -6.9,  -6.8,  -6.7,  -6.6,  -6.5,\n",
      "        -6.4,  -6.3,  -6.2,  -6.1,  -6. ,  -5.9,  -5.8,  -5.7,  -5.6,\n",
      "        -5.5,  -5.4,  -5.3,  -5.2,  -5.1,  -5. ,  -4.9,  -4.8,  -4.7,\n",
      "        -4.6,  -4.5,  -4.4,  -4.3,  -4.2,  -4.1,  -4. ,  -3.9,  -3.8,\n",
      "        -3.7,  -3.6,  -3.5,  -3.4,  -3.3,  -3.2,  -3.1,  -3. ,  -2.9,\n",
      "        -2.8,  -2.7,  -2.6,  -2.5,  -2.4,  -2.3,  -2.2,  -2.1,  -2. ,\n",
      "        -1.9,  -1.8,  -1.7,  -1.6,  -1.5,  -1.4,  -1.3,  -1.2,  -1.1,\n",
      "        -1. ,  -0.9,  -0.8,  -0.7,  -0.6,  -0.5,  -0.4,  -0.3,  -0.2,\n",
      "        -0.1,   0. ,   0.1,   0.2,   0.3,   0.4,   0.5,   0.6,   0.7,\n",
      "         0.8,   0.9,   1. ,   1.1,   1.2,   1.3,   1.4,   1.5,   1.6,\n",
      "         1.7,   1.8,   1.9,   2. ]), 'current': array([-8.50924666e-06, -8.50918529e-06, -8.50912712e-06, -8.50906564e-06,\n",
      "       -8.50900644e-06, -8.50893576e-06, -8.50889463e-06, -8.50883810e-06,\n",
      "       -8.50879225e-06, -8.50875381e-06, -8.50871405e-06, -8.50867586e-06,\n",
      "       -8.50863233e-06, -8.50860869e-06, -8.50858666e-06, -8.50856575e-06,\n",
      "       -8.50854405e-06, -8.50852288e-06, -8.50850244e-06, -8.50848024e-06,\n",
      "       -8.50845638e-06, -8.50844935e-06, -8.50844179e-06, -8.50843452e-06,\n",
      "       -8.50842720e-06, -8.50841987e-06, -8.50841255e-06, -8.50840474e-06,\n",
      "       -8.50840577e-06, -8.50840680e-06, -8.50840786e-06, -8.50840892e-06,\n",
      "       -8.50840995e-06, -8.50841097e-06, -8.50841270e-06, -8.50841728e-06,\n",
      "       -8.50842275e-06, -8.50842802e-06, -8.50843313e-06, -8.50843811e-06,\n",
      "       -8.50844295e-06, -8.50844871e-06, -8.50845440e-06, -8.50846115e-06,\n",
      "       -8.50846760e-06, -8.50847374e-06, -8.50848193e-06, -8.50848833e-06,\n",
      "       -8.50849463e-06, -8.50850288e-06, -8.50850880e-06, -8.50851545e-06,\n",
      "       -8.50852049e-06, -8.50852550e-06, -8.50853059e-06, -8.50853719e-06,\n",
      "       -8.50854145e-06, -8.50854558e-06, -8.50854937e-06, -8.50855309e-06,\n",
      "       -8.50855687e-06, -8.50856067e-06, -8.50856432e-06, -8.50856856e-06,\n",
      "       -8.50857026e-06, -8.50857237e-06, -8.50857426e-06, -8.50857610e-06,\n",
      "       -8.50857800e-06, -8.50857990e-06, -8.50858226e-06, -8.50858288e-06,\n",
      "       -8.50858355e-06, -8.50858421e-06, -8.50858484e-06, -8.50858553e-06,\n",
      "       -8.50858616e-06, -8.50858679e-06, -8.50858665e-06, -8.50858651e-06,\n",
      "       -8.50858638e-06, -8.50858621e-06, -8.50858606e-06, -8.50858594e-06,\n",
      "       -8.50858572e-06, -8.50858520e-06, -8.50858459e-06, -8.50858413e-06,\n",
      "       -8.50858343e-06, -8.50858271e-06, -8.50858186e-06, -8.50857974e-06,\n",
      "       -8.50857094e-06, -8.50852498e-06, -8.50827426e-06, -8.50689531e-06,\n",
      "       -8.49930008e-06, -8.45745489e-06, -8.22693168e-06, -6.95791208e-06,\n",
      "        0.00000000e+00,  3.73388556e-05,  2.18234686e-04,  8.48763677e-04,\n",
      "        2.15557770e-03,  3.98638809e-03,  6.12555643e-03,  8.44561378e-03,\n",
      "        1.08792092e-02,  1.33890550e-02,  1.59530262e-02,  1.85571412e-02,\n",
      "        2.11920872e-02,  2.38513873e-02,  2.65303728e-02,  2.92255772e-02,\n",
      "        3.19343609e-02,  3.46546709e-02,  3.73848809e-02,  4.01236815e-02,\n",
      "        4.28700039e-02])}, {'setpoint': np.float64(360.0), 'temperature_avg': np.float64(359.999953860897), 'voltage': array([-10. ,  -9.9,  -9.8,  -9.7,  -9.6,  -9.5,  -9.4,  -9.3,  -9.2,\n",
      "        -9.1,  -9. ,  -8.9,  -8.8,  -8.7,  -8.6,  -8.5,  -8.4,  -8.3,\n",
      "        -8.2,  -8.1,  -8. ,  -7.9,  -7.8,  -7.7,  -7.6,  -7.5,  -7.4,\n",
      "        -7.3,  -7.2,  -7.1,  -7. ,  -6.9,  -6.8,  -6.7,  -6.6,  -6.5,\n",
      "        -6.4,  -6.3,  -6.2,  -6.1,  -6. ,  -5.9,  -5.8,  -5.7,  -5.6,\n",
      "        -5.5,  -5.4,  -5.3,  -5.2,  -5.1,  -5. ,  -4.9,  -4.8,  -4.7,\n",
      "        -4.6,  -4.5,  -4.4,  -4.3,  -4.2,  -4.1,  -4. ,  -3.9,  -3.8,\n",
      "        -3.7,  -3.6,  -3.5,  -3.4,  -3.3,  -3.2,  -3.1,  -3. ,  -2.9,\n",
      "        -2.8,  -2.7,  -2.6,  -2.5,  -2.4,  -2.3,  -2.2,  -2.1,  -2. ,\n",
      "        -1.9,  -1.8,  -1.7,  -1.6,  -1.5,  -1.4,  -1.3,  -1.2,  -1.1,\n",
      "        -1. ,  -0.9,  -0.8,  -0.7,  -0.6,  -0.5,  -0.4,  -0.3,  -0.2,\n",
      "        -0.1,   0. ,   0.1,   0.2,   0.3,   0.4,   0.5,   0.6,   0.7,\n",
      "         0.8,   0.9,   1. ,   1.1,   1.2,   1.3,   1.4,   1.5,   1.6,\n",
      "         1.7,   1.8,   1.9,   2. ]), 'current': array([-7.11473312e-05, -7.11473336e-05, -7.11473362e-05, -7.11473385e-05,\n",
      "       -7.11473407e-05, -7.11473431e-05, -7.11473455e-05, -7.11473579e-05,\n",
      "       -7.11474141e-05, -7.11474734e-05, -7.11475294e-05, -7.11475846e-05,\n",
      "       -7.11476382e-05, -7.11476893e-05, -7.11477542e-05, -7.11478151e-05,\n",
      "       -7.11478843e-05, -7.11479497e-05, -7.11480159e-05, -7.11480756e-05,\n",
      "       -7.11481388e-05, -7.11482038e-05, -7.11482869e-05, -7.11483399e-05,\n",
      "       -7.11483994e-05, -7.11484563e-05, -7.11485100e-05, -7.11485628e-05,\n",
      "       -7.11486164e-05, -7.11486846e-05, -7.11487214e-05, -7.11487656e-05,\n",
      "       -7.11488059e-05, -7.11488474e-05, -7.11488867e-05, -7.11489260e-05,\n",
      "       -7.11489710e-05, -7.11489928e-05, -7.11490127e-05, -7.11490322e-05,\n",
      "       -7.11490512e-05, -7.11490712e-05, -7.11490912e-05, -7.11491125e-05,\n",
      "       -7.11491199e-05, -7.11491280e-05, -7.11491349e-05, -7.11491422e-05,\n",
      "       -7.11491494e-05, -7.11491564e-05, -7.11491627e-05, -7.11491619e-05,\n",
      "       -7.11491610e-05, -7.11491602e-05, -7.11491594e-05, -7.11491586e-05,\n",
      "       -7.11491578e-05, -7.11491555e-05, -7.11491513e-05, -7.11491467e-05,\n",
      "       -7.11491422e-05, -7.11491378e-05, -7.11491335e-05, -7.11491291e-05,\n",
      "       -7.11491239e-05, -7.11491185e-05, -7.11491135e-05, -7.11491086e-05,\n",
      "       -7.11491037e-05, -7.11490986e-05, -7.11490937e-05, -7.11490880e-05,\n",
      "       -7.11490840e-05, -7.11490798e-05, -7.11490758e-05, -7.11490717e-05,\n",
      "       -7.11490676e-05, -7.11490637e-05, -7.11490591e-05, -7.11490564e-05,\n",
      "       -7.11490535e-05, -7.11490508e-05, -7.11490480e-05, -7.11490451e-05,\n",
      "       -7.11490423e-05, -7.11490397e-05, -7.11490366e-05, -7.11490353e-05,\n",
      "       -7.11490335e-05, -7.11490309e-05, -7.11490235e-05, -7.11489924e-05,\n",
      "       -7.11488420e-05, -7.11480940e-05, -7.11443514e-05, -7.11255973e-05,\n",
      "       -7.10316186e-05, -7.05607942e-05, -6.82050097e-05, -5.64922052e-05,\n",
      "        0.00000000e+00,  2.40226969e-04,  9.65407382e-04,  2.33195531e-03,\n",
      "        4.17851503e-03,  6.31394238e-03,  8.62372901e-03,  1.10453275e-02,\n",
      "        1.35431554e-02,  1.60956756e-02,  1.86890788e-02,  2.13140664e-02,\n",
      "        2.39641173e-02,  2.66345001e-02,  2.93216833e-02,  3.20229663e-02,\n",
      "        3.47362414e-02,  3.74598336e-02,  4.01923913e-02,  4.29328087e-02,\n",
      "        4.56801705e-02])}, {'setpoint': np.float64(380.0), 'temperature_avg': np.float64(380.00000401479326), 'voltage': array([-10. ,  -9.9,  -9.8,  -9.7,  -9.6,  -9.5,  -9.4,  -9.3,  -9.2,\n",
      "        -9.1,  -9. ,  -8.9,  -8.8,  -8.7,  -8.6,  -8.5,  -8.4,  -8.3,\n",
      "        -8.2,  -8.1,  -8. ,  -7.9,  -7.8,  -7.7,  -7.6,  -7.5,  -7.4,\n",
      "        -7.3,  -7.2,  -7.1,  -7. ,  -6.9,  -6.8,  -6.7,  -6.6,  -6.5,\n",
      "        -6.4,  -6.3,  -6.2,  -6.1,  -6. ,  -5.9,  -5.8,  -5.7,  -5.6,\n",
      "        -5.5,  -5.4,  -5.3,  -5.2,  -5.1,  -5. ,  -4.9,  -4.8,  -4.7,\n",
      "        -4.6,  -4.5,  -4.4,  -4.3,  -4.2,  -4.1,  -4. ,  -3.9,  -3.8,\n",
      "        -3.7,  -3.6,  -3.5,  -3.4,  -3.3,  -3.2,  -3.1,  -3. ,  -2.9,\n",
      "        -2.8,  -2.7,  -2.6,  -2.5,  -2.4,  -2.3,  -2.2,  -2.1,  -2. ,\n",
      "        -1.9,  -1.8,  -1.7,  -1.6,  -1.5,  -1.4,  -1.3,  -1.2,  -1.1,\n",
      "        -1. ,  -0.9,  -0.8,  -0.7,  -0.6,  -0.5,  -0.4,  -0.3,  -0.2,\n",
      "        -0.1,   0. ,   0.1,   0.2,   0.3,   0.4,   0.5,   0.6,   0.7,\n",
      "         0.8,   0.9,   1. ,   1.1,   1.2,   1.3,   1.4,   1.5,   1.6,\n",
      "         1.7,   1.8,   1.9,   2. ]), 'current': array([-0.00047577, -0.00047577, -0.00047577, -0.00047577, -0.00047577,\n",
      "       -0.00047577, -0.00047577, -0.00047577, -0.00047577, -0.00047577,\n",
      "       -0.00047577, -0.00047577, -0.00047577, -0.00047577, -0.00047577,\n",
      "       -0.00047577, -0.00047577, -0.00047577, -0.00047577, -0.00047577,\n",
      "       -0.00047577, -0.00047577, -0.00047577, -0.00047577, -0.00047577,\n",
      "       -0.00047577, -0.00047577, -0.00047577, -0.00047577, -0.00047577,\n",
      "       -0.00047577, -0.00047577, -0.00047577, -0.00047577, -0.00047577,\n",
      "       -0.00047577, -0.00047577, -0.00047577, -0.00047577, -0.00047577,\n",
      "       -0.00047577, -0.00047577, -0.00047577, -0.00047577, -0.00047577,\n",
      "       -0.00047577, -0.00047577, -0.00047577, -0.00047577, -0.00047577,\n",
      "       -0.00047577, -0.00047577, -0.00047577, -0.00047577, -0.00047577,\n",
      "       -0.00047577, -0.00047577, -0.00047577, -0.00047577, -0.00047577,\n",
      "       -0.00047577, -0.00047577, -0.00047577, -0.00047577, -0.00047577,\n",
      "       -0.00047577, -0.00047577, -0.00047577, -0.00047577, -0.00047577,\n",
      "       -0.00047577, -0.00047577, -0.00047577, -0.00047577, -0.00047577,\n",
      "       -0.00047577, -0.00047577, -0.00047577, -0.00047577, -0.00047577,\n",
      "       -0.00047577, -0.00047577, -0.00047577, -0.00047577, -0.00047577,\n",
      "       -0.00047577, -0.00047577, -0.00047577, -0.00047577, -0.00047577,\n",
      "       -0.00047577, -0.00047577, -0.00047577, -0.00047575, -0.0004757 ,\n",
      "       -0.00047547, -0.0004744 , -0.0004695 , -0.00044726, -0.0003511 ,\n",
      "        0.        ,  0.00088743,  0.00236841,  0.00426824,  0.00642433,\n",
      "        0.00873999,  0.01116071,  0.01365452,  0.01620155,  0.01878883,\n",
      "        0.02140748,  0.02405121,  0.0267154 ,  0.02939658,  0.03209206,\n",
      "        0.03479976,  0.037518  ,  0.04024542,  0.04298091,  0.04572353,\n",
      "        0.04847252])}, {'setpoint': np.float64(400.0), 'temperature_avg': np.float64(399.9999998116152), 'voltage': array([-10. ,  -9.9,  -9.8,  -9.7,  -9.6,  -9.5,  -9.4,  -9.3,  -9.2,\n",
      "        -9.1,  -9. ,  -8.9,  -8.8,  -8.7,  -8.6,  -8.5,  -8.4,  -8.3,\n",
      "        -8.2,  -8.1,  -8. ,  -7.9,  -7.8,  -7.7,  -7.6,  -7.5,  -7.4,\n",
      "        -7.3,  -7.2,  -7.1,  -7. ,  -6.9,  -6.8,  -6.7,  -6.6,  -6.5,\n",
      "        -6.4,  -6.3,  -6.2,  -6.1,  -6. ,  -5.9,  -5.8,  -5.7,  -5.6,\n",
      "        -5.5,  -5.4,  -5.3,  -5.2,  -5.1,  -5. ,  -4.9,  -4.8,  -4.7,\n",
      "        -4.6,  -4.5,  -4.4,  -4.3,  -4.2,  -4.1,  -4. ,  -3.9,  -3.8,\n",
      "        -3.7,  -3.6,  -3.5,  -3.4,  -3.3,  -3.2,  -3.1,  -3. ,  -2.9,\n",
      "        -2.8,  -2.7,  -2.6,  -2.5,  -2.4,  -2.3,  -2.2,  -2.1,  -2. ,\n",
      "        -1.9,  -1.8,  -1.7,  -1.6,  -1.5,  -1.4,  -1.3,  -1.2,  -1.1,\n",
      "        -1. ,  -0.9,  -0.8,  -0.7,  -0.6,  -0.5,  -0.4,  -0.3,  -0.2,\n",
      "        -0.1,   0. ,   0.1,   0.2,   0.3,   0.4,   0.5,   0.6,   0.7,\n",
      "         0.8,   0.9,   1. ,   1.1,   1.2,   1.3,   1.4,   1.5,   1.6,\n",
      "         1.7,   1.8,   1.9,   2. ]), 'current': array([-0.00263088, -0.00263088, -0.00263088, -0.00263088, -0.00263088,\n",
      "       -0.00263088, -0.00263088, -0.00263088, -0.00263087, -0.00263087,\n",
      "       -0.00263087, -0.00263087, -0.00263087, -0.00263087, -0.00263087,\n",
      "       -0.00263087, -0.00263087, -0.00263087, -0.00263087, -0.00263087,\n",
      "       -0.00263087, -0.00263087, -0.00263087, -0.00263087, -0.00263087,\n",
      "       -0.00263087, -0.00263087, -0.00263087, -0.00263087, -0.00263087,\n",
      "       -0.00263087, -0.00263087, -0.00263087, -0.00263087, -0.00263087,\n",
      "       -0.00263087, -0.00263087, -0.00263087, -0.00263087, -0.00263087,\n",
      "       -0.00263087, -0.00263087, -0.00263087, -0.00263087, -0.00263087,\n",
      "       -0.00263087, -0.00263087, -0.00263087, -0.00263087, -0.00263087,\n",
      "       -0.00263087, -0.00263087, -0.00263087, -0.00263087, -0.00263087,\n",
      "       -0.00263087, -0.00263087, -0.00263087, -0.00263087, -0.00263087,\n",
      "       -0.00263087, -0.00263087, -0.00263087, -0.00263087, -0.00263087,\n",
      "       -0.00263087, -0.00263087, -0.00263087, -0.00263087, -0.00263087,\n",
      "       -0.00263087, -0.00263087, -0.00263087, -0.00263087, -0.00263087,\n",
      "       -0.00263087, -0.00263087, -0.00263087, -0.00263087, -0.00263087,\n",
      "       -0.00263087, -0.00263087, -0.00263087, -0.00263087, -0.00263087,\n",
      "       -0.00263087, -0.00263087, -0.00263087, -0.00263087, -0.00263087,\n",
      "       -0.00263087, -0.00263085, -0.00263078, -0.00263048, -0.00262921,\n",
      "       -0.00262381, -0.00260111, -0.00250966, -0.00219106, -0.00138494,\n",
      "        0.        ,  0.00182105,  0.00391799,  0.00618878,  0.00857438,\n",
      "        0.01103981,  0.0135633 ,  0.01613059,  0.01873198,  0.02136055,\n",
      "        0.02401128,  0.02668036,  0.0293649 ,  0.0320626 ,  0.03477165,\n",
      "        0.03749057,  0.04021817,  0.04295342,  0.04569551,  0.04844371,\n",
      "        0.05119742])}]\n"
     ]
    },
    {
     "name": "stderr",
     "output_type": "stream",
     "text": [
      "C:\\Users\\mpap00kp\\AppData\\Local\\Temp\\ipykernel_10020\\108022969.py:5: DeprecationWarning: __array__ implementation doesn't accept a copy keyword, so passing copy=False failed. __array__ must implement 'dtype' and 'copy' keyword arguments.\n",
      "  temperatures = np.unique(np.array(dataset['PID_setpoint']))\n"
     ]
    }
   ],
   "source": [
    "# Let's load data from the first entry; those are stored in the section data/IV_sweep.\n",
    "experiment = hdf5file[list(keys)[0]]\n",
    "dataset = experiment['data/IV_sweep']\n",
    "\n",
    "temperatures = np.unique(np.array(dataset['PID_setpoint']))\n",
    "data = [\n",
    "    {\n",
    "        'setpoint': temp,\n",
    "        'temperature_avg': np.average(dataset['PID_current_value'][np.where(dataset['PID_setpoint'] == temp)]),\n",
    "        'voltage': np.array(dataset['SMU_mesV1'][np.where(dataset['PID_setpoint'] == temp)]),\n",
    "        'current': np.array(dataset['SMU_mesI1'][np.where(dataset['PID_setpoint'] == temp)]),\n",
    "    }\n",
    "    for temp in temperatures\n",
    "]\n",
    "print(data)"
   ]
  },
  {
   "cell_type": "markdown",
   "metadata": {},
   "source": [
    "### Read the (binary) content of a file from the ELN\n",
    "In this example, we read an image file and display the image."
   ]
  },
  {
   "cell_type": "code",
   "execution_count": 15,
   "metadata": {},
   "outputs": [
    {
     "data": {
      "image/png": "[encoded data removed]",
      "text/plain": [
       "<PIL.PngImagePlugin.PngImageFile image mode=RGBA size=640x480>"
      ]
     },
     "metadata": {},
     "output_type": "display_data"
    }
   ],
   "source": [
    "filedata = eln.get_file_data('testdata_plot.png')\n",
    "\n",
    "# We use BytesIO to create a filestream from the binary data that can be read with Image.open.\n",
    "display(Image.open(BytesIO(filedata)))"
   ]
  },
  {
   "cell_type": "markdown",
   "metadata": {},
   "source": [
    "### Upload numerical data as a csv file to an ELN entry\n",
    "The upload function can create a csv file from a DataFrame or a dictionary of column data (numpy arrays); in the latter case, the keys are used as column headers (see the following example)."
   ]
  },
  {
   "cell_type": "code",
   "execution_count": 16,
   "metadata": {},
   "outputs": [],
   "source": [
    "# First, we generate a test signal (sine voltage with amplitude of 1 V and frequency of 4 Hz, \n",
    "# sampled at 101 points over 1 s).\n",
    "t = np.linspace(0, 1, 101)\n",
    "U = np.sin(2 * np.pi * 4 * t)\n",
    "\n",
    "# Upload to eLabFTW\n",
    "eln.upload_csv_data({'t (s)': t, 'U (V)': U}, 'voltage_sine.txt', 'A sine voltage with frequency of 4 Hz.')"
   ]
  },
  {
   "cell_type": "markdown",
   "metadata": {},
   "source": [
    "### Save and upload this jupyter notebook to an ELN entry\n",
    "To upload this Jupyter notebook to the ELN entry, all you need is a description."
   ]
  },
  {
   "cell_type": "code",
   "execution_count": 17,
   "metadata": {},
   "outputs": [],
   "source": [
    "eln.upload_this_jupyternotebook('This is the jupyter notebook that generated the evaluated data and uploads.')"
   ]
  },
  {
   "cell_type": "markdown",
   "metadata": {},
   "source": [
    "### Disconnect from the eLabFTW server"
   ]
  },
  {
   "cell_type": "code",
   "execution_count": 18,
   "metadata": {},
   "outputs": [],
   "source": [
    "eln.disconnect()"
   ]
  },
  {
   "cell_type": "code",
   "execution_count": null,
   "metadata": {},
   "outputs": [],
   "source": []
  }
 ],
 "metadata": {
  "kernelspec": {
   "display_name": "Python 3 (ipykernel)",
   "language": "python",
   "name": "python3"
  },
  "language_info": {
   "codemirror_mode": {
    "name": "ipython",
    "version": 3
   },
   "file_extension": ".py",
   "mimetype": "text/x-python",
   "name": "python",
   "nbconvert_exporter": "python",
   "pygments_lexer": "ipython3",
   "version": "3.11.3"
  }
 },
 "nbformat": 4,
 "nbformat_minor": 4
}
